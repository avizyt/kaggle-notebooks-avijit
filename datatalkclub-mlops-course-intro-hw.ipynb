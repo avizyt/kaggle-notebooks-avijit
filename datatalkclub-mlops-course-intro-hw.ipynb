{
 "cells": [
  {
   "cell_type": "markdown",
   "id": "1c67342f",
   "metadata": {
    "papermill": {
     "duration": 0.008905,
     "end_time": "2023-05-22T15:58:08.382349",
     "exception": false,
     "start_time": "2023-05-22T15:58:08.373444",
     "status": "completed"
    },
    "tags": []
   },
   "source": [
    "# DataTalkClub Mlops Notebooks\n",
    "## Introduction Home Work"
   ]
  },
  {
   "cell_type": "code",
   "execution_count": 1,
   "id": "797606c2",
   "metadata": {
    "execution": {
     "iopub.execute_input": "2023-05-22T15:58:08.401167Z",
     "iopub.status.busy": "2023-05-22T15:58:08.400512Z",
     "iopub.status.idle": "2023-05-22T15:58:09.744529Z",
     "shell.execute_reply": "2023-05-22T15:58:09.743405Z"
    },
    "papermill": {
     "duration": 1.356279,
     "end_time": "2023-05-22T15:58:09.746951",
     "exception": false,
     "start_time": "2023-05-22T15:58:08.390672",
     "status": "completed"
    },
    "tags": []
   },
   "outputs": [
    {
     "name": "stderr",
     "output_type": "stream",
     "text": [
      "/opt/conda/lib/python3.10/site-packages/scipy/__init__.py:146: UserWarning: A NumPy version >=1.16.5 and <1.23.0 is required for this version of SciPy (detected version 1.23.5\n",
      "  warnings.warn(f\"A NumPy version >={np_minversion} and <{np_maxversion}\"\n"
     ]
    }
   ],
   "source": [
    "import os\n",
    "import numpy as np\n",
    "import pandas as pd\n",
    "import matplotlib.pyplot as plt\n",
    "import seaborn as sns"
   ]
  },
  {
   "cell_type": "code",
   "execution_count": 2,
   "id": "31baa4e7",
   "metadata": {
    "execution": {
     "iopub.execute_input": "2023-05-22T15:58:09.766552Z",
     "iopub.status.busy": "2023-05-22T15:58:09.765949Z",
     "iopub.status.idle": "2023-05-22T15:58:11.329098Z",
     "shell.execute_reply": "2023-05-22T15:58:11.327533Z"
    },
    "papermill": {
     "duration": 1.575945,
     "end_time": "2023-05-22T15:58:11.331649",
     "exception": false,
     "start_time": "2023-05-22T15:58:09.755704",
     "status": "completed"
    },
    "tags": []
   },
   "outputs": [
    {
     "data": {
      "text/plain": [
       "(2463931, 19)"
      ]
     },
     "execution_count": 2,
     "metadata": {},
     "output_type": "execute_result"
    }
   ],
   "source": [
    "data = pd.read_parquet(\"/kaggle/input/zoomcamp-mlops-data/nyc-2022-jan-01.parquet\")\n",
    "data.shape"
   ]
  },
  {
   "cell_type": "code",
   "execution_count": 3,
   "id": "2cf48ae8",
   "metadata": {
    "execution": {
     "iopub.execute_input": "2023-05-22T15:58:11.350772Z",
     "iopub.status.busy": "2023-05-22T15:58:11.350415Z",
     "iopub.status.idle": "2023-05-22T15:58:11.355970Z",
     "shell.execute_reply": "2023-05-22T15:58:11.354513Z"
    },
    "papermill": {
     "duration": 0.017456,
     "end_time": "2023-05-22T15:58:11.357951",
     "exception": false,
     "start_time": "2023-05-22T15:58:11.340495",
     "status": "completed"
    },
    "tags": []
   },
   "outputs": [],
   "source": [
    "data_prev_rows = data.shape[0]\n",
    "data_prev_cols = data.shape[1]"
   ]
  },
  {
   "cell_type": "code",
   "execution_count": 4,
   "id": "13769c32",
   "metadata": {
    "execution": {
     "iopub.execute_input": "2023-05-22T15:58:11.378466Z",
     "iopub.status.busy": "2023-05-22T15:58:11.378113Z",
     "iopub.status.idle": "2023-05-22T15:58:11.413939Z",
     "shell.execute_reply": "2023-05-22T15:58:11.412678Z"
    },
    "papermill": {
     "duration": 0.048854,
     "end_time": "2023-05-22T15:58:11.416660",
     "exception": false,
     "start_time": "2023-05-22T15:58:11.367806",
     "status": "completed"
    },
    "tags": []
   },
   "outputs": [
    {
     "data": {
      "text/html": [
       "<div>\n",
       "<style scoped>\n",
       "    .dataframe tbody tr th:only-of-type {\n",
       "        vertical-align: middle;\n",
       "    }\n",
       "\n",
       "    .dataframe tbody tr th {\n",
       "        vertical-align: top;\n",
       "    }\n",
       "\n",
       "    .dataframe thead th {\n",
       "        text-align: right;\n",
       "    }\n",
       "</style>\n",
       "<table border=\"1\" class=\"dataframe\">\n",
       "  <thead>\n",
       "    <tr style=\"text-align: right;\">\n",
       "      <th></th>\n",
       "      <th>VendorID</th>\n",
       "      <th>tpep_pickup_datetime</th>\n",
       "      <th>tpep_dropoff_datetime</th>\n",
       "      <th>passenger_count</th>\n",
       "      <th>trip_distance</th>\n",
       "      <th>RatecodeID</th>\n",
       "      <th>store_and_fwd_flag</th>\n",
       "      <th>PULocationID</th>\n",
       "      <th>DOLocationID</th>\n",
       "      <th>payment_type</th>\n",
       "      <th>fare_amount</th>\n",
       "      <th>extra</th>\n",
       "      <th>mta_tax</th>\n",
       "      <th>tip_amount</th>\n",
       "      <th>tolls_amount</th>\n",
       "      <th>improvement_surcharge</th>\n",
       "      <th>total_amount</th>\n",
       "      <th>congestion_surcharge</th>\n",
       "      <th>airport_fee</th>\n",
       "    </tr>\n",
       "  </thead>\n",
       "  <tbody>\n",
       "    <tr>\n",
       "      <th>0</th>\n",
       "      <td>1</td>\n",
       "      <td>2022-01-01 00:35:40</td>\n",
       "      <td>2022-01-01 00:53:29</td>\n",
       "      <td>2.0</td>\n",
       "      <td>3.80</td>\n",
       "      <td>1.0</td>\n",
       "      <td>N</td>\n",
       "      <td>142</td>\n",
       "      <td>236</td>\n",
       "      <td>1</td>\n",
       "      <td>14.5</td>\n",
       "      <td>3.0</td>\n",
       "      <td>0.5</td>\n",
       "      <td>3.65</td>\n",
       "      <td>0.0</td>\n",
       "      <td>0.3</td>\n",
       "      <td>21.95</td>\n",
       "      <td>2.5</td>\n",
       "      <td>0.0</td>\n",
       "    </tr>\n",
       "    <tr>\n",
       "      <th>1</th>\n",
       "      <td>1</td>\n",
       "      <td>2022-01-01 00:33:43</td>\n",
       "      <td>2022-01-01 00:42:07</td>\n",
       "      <td>1.0</td>\n",
       "      <td>2.10</td>\n",
       "      <td>1.0</td>\n",
       "      <td>N</td>\n",
       "      <td>236</td>\n",
       "      <td>42</td>\n",
       "      <td>1</td>\n",
       "      <td>8.0</td>\n",
       "      <td>0.5</td>\n",
       "      <td>0.5</td>\n",
       "      <td>4.00</td>\n",
       "      <td>0.0</td>\n",
       "      <td>0.3</td>\n",
       "      <td>13.30</td>\n",
       "      <td>0.0</td>\n",
       "      <td>0.0</td>\n",
       "    </tr>\n",
       "    <tr>\n",
       "      <th>2</th>\n",
       "      <td>2</td>\n",
       "      <td>2022-01-01 00:53:21</td>\n",
       "      <td>2022-01-01 01:02:19</td>\n",
       "      <td>1.0</td>\n",
       "      <td>0.97</td>\n",
       "      <td>1.0</td>\n",
       "      <td>N</td>\n",
       "      <td>166</td>\n",
       "      <td>166</td>\n",
       "      <td>1</td>\n",
       "      <td>7.5</td>\n",
       "      <td>0.5</td>\n",
       "      <td>0.5</td>\n",
       "      <td>1.76</td>\n",
       "      <td>0.0</td>\n",
       "      <td>0.3</td>\n",
       "      <td>10.56</td>\n",
       "      <td>0.0</td>\n",
       "      <td>0.0</td>\n",
       "    </tr>\n",
       "    <tr>\n",
       "      <th>3</th>\n",
       "      <td>2</td>\n",
       "      <td>2022-01-01 00:25:21</td>\n",
       "      <td>2022-01-01 00:35:23</td>\n",
       "      <td>1.0</td>\n",
       "      <td>1.09</td>\n",
       "      <td>1.0</td>\n",
       "      <td>N</td>\n",
       "      <td>114</td>\n",
       "      <td>68</td>\n",
       "      <td>2</td>\n",
       "      <td>8.0</td>\n",
       "      <td>0.5</td>\n",
       "      <td>0.5</td>\n",
       "      <td>0.00</td>\n",
       "      <td>0.0</td>\n",
       "      <td>0.3</td>\n",
       "      <td>11.80</td>\n",
       "      <td>2.5</td>\n",
       "      <td>0.0</td>\n",
       "    </tr>\n",
       "    <tr>\n",
       "      <th>4</th>\n",
       "      <td>2</td>\n",
       "      <td>2022-01-01 00:36:48</td>\n",
       "      <td>2022-01-01 01:14:20</td>\n",
       "      <td>1.0</td>\n",
       "      <td>4.30</td>\n",
       "      <td>1.0</td>\n",
       "      <td>N</td>\n",
       "      <td>68</td>\n",
       "      <td>163</td>\n",
       "      <td>1</td>\n",
       "      <td>23.5</td>\n",
       "      <td>0.5</td>\n",
       "      <td>0.5</td>\n",
       "      <td>3.00</td>\n",
       "      <td>0.0</td>\n",
       "      <td>0.3</td>\n",
       "      <td>30.30</td>\n",
       "      <td>2.5</td>\n",
       "      <td>0.0</td>\n",
       "    </tr>\n",
       "  </tbody>\n",
       "</table>\n",
       "</div>"
      ],
      "text/plain": [
       "   VendorID tpep_pickup_datetime tpep_dropoff_datetime  passenger_count  \\\n",
       "0         1  2022-01-01 00:35:40   2022-01-01 00:53:29              2.0   \n",
       "1         1  2022-01-01 00:33:43   2022-01-01 00:42:07              1.0   \n",
       "2         2  2022-01-01 00:53:21   2022-01-01 01:02:19              1.0   \n",
       "3         2  2022-01-01 00:25:21   2022-01-01 00:35:23              1.0   \n",
       "4         2  2022-01-01 00:36:48   2022-01-01 01:14:20              1.0   \n",
       "\n",
       "   trip_distance  RatecodeID store_and_fwd_flag  PULocationID  DOLocationID  \\\n",
       "0           3.80         1.0                  N           142           236   \n",
       "1           2.10         1.0                  N           236            42   \n",
       "2           0.97         1.0                  N           166           166   \n",
       "3           1.09         1.0                  N           114            68   \n",
       "4           4.30         1.0                  N            68           163   \n",
       "\n",
       "   payment_type  fare_amount  extra  mta_tax  tip_amount  tolls_amount  \\\n",
       "0             1         14.5    3.0      0.5        3.65           0.0   \n",
       "1             1          8.0    0.5      0.5        4.00           0.0   \n",
       "2             1          7.5    0.5      0.5        1.76           0.0   \n",
       "3             2          8.0    0.5      0.5        0.00           0.0   \n",
       "4             1         23.5    0.5      0.5        3.00           0.0   \n",
       "\n",
       "   improvement_surcharge  total_amount  congestion_surcharge  airport_fee  \n",
       "0                    0.3         21.95                   2.5          0.0  \n",
       "1                    0.3         13.30                   0.0          0.0  \n",
       "2                    0.3         10.56                   0.0          0.0  \n",
       "3                    0.3         11.80                   2.5          0.0  \n",
       "4                    0.3         30.30                   2.5          0.0  "
      ]
     },
     "execution_count": 4,
     "metadata": {},
     "output_type": "execute_result"
    }
   ],
   "source": [
    "data.head()"
   ]
  },
  {
   "cell_type": "code",
   "execution_count": 5,
   "id": "975cbae6",
   "metadata": {
    "execution": {
     "iopub.execute_input": "2023-05-22T15:58:11.437483Z",
     "iopub.status.busy": "2023-05-22T15:58:11.437122Z",
     "iopub.status.idle": "2023-05-22T15:58:11.445332Z",
     "shell.execute_reply": "2023-05-22T15:58:11.443947Z"
    },
    "papermill": {
     "duration": 0.021515,
     "end_time": "2023-05-22T15:58:11.447660",
     "exception": false,
     "start_time": "2023-05-22T15:58:11.426145",
     "status": "completed"
    },
    "tags": []
   },
   "outputs": [
    {
     "data": {
      "text/plain": [
       "['VendorID',\n",
       " 'tpep_pickup_datetime',\n",
       " 'tpep_dropoff_datetime',\n",
       " 'passenger_count',\n",
       " 'trip_distance',\n",
       " 'RatecodeID',\n",
       " 'store_and_fwd_flag',\n",
       " 'PULocationID',\n",
       " 'DOLocationID',\n",
       " 'payment_type',\n",
       " 'fare_amount',\n",
       " 'extra',\n",
       " 'mta_tax',\n",
       " 'tip_amount',\n",
       " 'tolls_amount',\n",
       " 'improvement_surcharge',\n",
       " 'total_amount',\n",
       " 'congestion_surcharge',\n",
       " 'airport_fee']"
      ]
     },
     "execution_count": 5,
     "metadata": {},
     "output_type": "execute_result"
    }
   ],
   "source": [
    "data_columns = list(data.columns)\n",
    "data_columns"
   ]
  },
  {
   "cell_type": "code",
   "execution_count": 6,
   "id": "4b5937d8",
   "metadata": {
    "execution": {
     "iopub.execute_input": "2023-05-22T15:58:11.467530Z",
     "iopub.status.busy": "2023-05-22T15:58:11.466958Z",
     "iopub.status.idle": "2023-05-22T15:58:11.504104Z",
     "shell.execute_reply": "2023-05-22T15:58:11.502754Z"
    },
    "papermill": {
     "duration": 0.049791,
     "end_time": "2023-05-22T15:58:11.506536",
     "exception": false,
     "start_time": "2023-05-22T15:58:11.456745",
     "status": "completed"
    },
    "tags": []
   },
   "outputs": [],
   "source": [
    "data['trip_duration'] = data['tpep_dropoff_datetime'] - data['tpep_pickup_datetime']"
   ]
  },
  {
   "cell_type": "code",
   "execution_count": 7,
   "id": "0ed3f651",
   "metadata": {
    "execution": {
     "iopub.execute_input": "2023-05-22T15:58:11.526208Z",
     "iopub.status.busy": "2023-05-22T15:58:11.525848Z",
     "iopub.status.idle": "2023-05-22T15:58:11.533019Z",
     "shell.execute_reply": "2023-05-22T15:58:11.531592Z"
    },
    "papermill": {
     "duration": 0.020093,
     "end_time": "2023-05-22T15:58:11.535701",
     "exception": false,
     "start_time": "2023-05-22T15:58:11.515608",
     "status": "completed"
    },
    "tags": []
   },
   "outputs": [
    {
     "data": {
      "text/plain": [
       "(2463931, 20)"
      ]
     },
     "execution_count": 7,
     "metadata": {},
     "output_type": "execute_result"
    }
   ],
   "source": [
    "data.shape"
   ]
  },
  {
   "cell_type": "code",
   "execution_count": 8,
   "id": "0e8019ef",
   "metadata": {
    "execution": {
     "iopub.execute_input": "2023-05-22T15:58:11.556339Z",
     "iopub.status.busy": "2023-05-22T15:58:11.555941Z",
     "iopub.status.idle": "2023-05-22T15:58:11.560855Z",
     "shell.execute_reply": "2023-05-22T15:58:11.559952Z"
    },
    "papermill": {
     "duration": 0.017585,
     "end_time": "2023-05-22T15:58:11.562810",
     "exception": false,
     "start_time": "2023-05-22T15:58:11.545225",
     "status": "completed"
    },
    "tags": []
   },
   "outputs": [
    {
     "name": "stdout",
     "output_type": "stream",
     "text": [
      "Total Rows: 2463931\n",
      "Total Cols: 20\n"
     ]
    }
   ],
   "source": [
    "data_prev_rows = data.shape[0]\n",
    "data_prev_cols = data.shape[1]\n",
    "\n",
    "print(f\"Total Rows: {data_prev_rows}\")\n",
    "print(f\"Total Cols: {data_prev_cols}\")"
   ]
  },
  {
   "cell_type": "code",
   "execution_count": 9,
   "id": "cb0a24bd",
   "metadata": {
    "execution": {
     "iopub.execute_input": "2023-05-22T15:58:11.583257Z",
     "iopub.status.busy": "2023-05-22T15:58:11.582920Z",
     "iopub.status.idle": "2023-05-22T15:58:11.593122Z",
     "shell.execute_reply": "2023-05-22T15:58:11.591548Z"
    },
    "papermill": {
     "duration": 0.023906,
     "end_time": "2023-05-22T15:58:11.596201",
     "exception": false,
     "start_time": "2023-05-22T15:58:11.572295",
     "status": "completed"
    },
    "tags": []
   },
   "outputs": [
    {
     "data": {
      "text/plain": [
       "0   0 days 00:17:49\n",
       "1   0 days 00:08:24\n",
       "2   0 days 00:08:58\n",
       "3   0 days 00:10:02\n",
       "4   0 days 00:37:32\n",
       "5   0 days 00:29:33\n",
       "6   0 days 00:14:08\n",
       "7   0 days 00:09:41\n",
       "8   0 days 00:14:47\n",
       "9   0 days 00:04:36\n",
       "Name: trip_duration, dtype: timedelta64[ns]"
      ]
     },
     "execution_count": 9,
     "metadata": {},
     "output_type": "execute_result"
    }
   ],
   "source": [
    "data['trip_duration'].head(10)"
   ]
  },
  {
   "cell_type": "code",
   "execution_count": 10,
   "id": "75ed7cd8",
   "metadata": {
    "execution": {
     "iopub.execute_input": "2023-05-22T15:58:11.617812Z",
     "iopub.status.busy": "2023-05-22T15:58:11.617476Z",
     "iopub.status.idle": "2023-05-22T15:58:11.640876Z",
     "shell.execute_reply": "2023-05-22T15:58:11.639514Z"
    },
    "papermill": {
     "duration": 0.036988,
     "end_time": "2023-05-22T15:58:11.643400",
     "exception": false,
     "start_time": "2023-05-22T15:58:11.606412",
     "status": "completed"
    },
    "tags": []
   },
   "outputs": [
    {
     "data": {
      "text/plain": [
       "0    17.816667\n",
       "1     8.400000\n",
       "2     8.966667\n",
       "3    10.033333\n",
       "4    37.533333\n",
       "Name: trip_duration, dtype: float64"
      ]
     },
     "execution_count": 10,
     "metadata": {},
     "output_type": "execute_result"
    }
   ],
   "source": [
    "data['trip_duration'] = data.trip_duration.dt.total_seconds() /60\n",
    "data['trip_duration'].head()"
   ]
  },
  {
   "cell_type": "markdown",
   "id": "514089b1",
   "metadata": {
    "papermill": {
     "duration": 0.009272,
     "end_time": "2023-05-22T15:58:11.662044",
     "exception": false,
     "start_time": "2023-05-22T15:58:11.652772",
     "status": "completed"
    },
    "tags": []
   },
   "source": [
    "## Mean of trip duration"
   ]
  },
  {
   "cell_type": "code",
   "execution_count": 11,
   "id": "0578b339",
   "metadata": {
    "execution": {
     "iopub.execute_input": "2023-05-22T15:58:11.682222Z",
     "iopub.status.busy": "2023-05-22T15:58:11.681854Z",
     "iopub.status.idle": "2023-05-22T15:58:11.692707Z",
     "shell.execute_reply": "2023-05-22T15:58:11.691510Z"
    },
    "papermill": {
     "duration": 0.023204,
     "end_time": "2023-05-22T15:58:11.694597",
     "exception": false,
     "start_time": "2023-05-22T15:58:11.671393",
     "status": "completed"
    },
    "tags": []
   },
   "outputs": [
    {
     "data": {
      "text/plain": [
       "14.212202918831741"
      ]
     },
     "execution_count": 11,
     "metadata": {},
     "output_type": "execute_result"
    }
   ],
   "source": [
    "data['trip_duration'].mean()"
   ]
  },
  {
   "cell_type": "markdown",
   "id": "f239e0e1",
   "metadata": {
    "papermill": {
     "duration": 0.009214,
     "end_time": "2023-05-22T15:58:11.713435",
     "exception": false,
     "start_time": "2023-05-22T15:58:11.704221",
     "status": "completed"
    },
    "tags": []
   },
   "source": [
    "## Standard Deviation"
   ]
  },
  {
   "cell_type": "code",
   "execution_count": 12,
   "id": "44df849e",
   "metadata": {
    "execution": {
     "iopub.execute_input": "2023-05-22T15:58:11.736063Z",
     "iopub.status.busy": "2023-05-22T15:58:11.735659Z",
     "iopub.status.idle": "2023-05-22T15:58:11.762322Z",
     "shell.execute_reply": "2023-05-22T15:58:11.760889Z"
    },
    "papermill": {
     "duration": 0.040101,
     "end_time": "2023-05-22T15:58:11.764569",
     "exception": false,
     "start_time": "2023-05-22T15:58:11.724468",
     "status": "completed"
    },
    "tags": []
   },
   "outputs": [
    {
     "data": {
      "text/plain": [
       "46.44530513776802"
      ]
     },
     "execution_count": 12,
     "metadata": {},
     "output_type": "execute_result"
    }
   ],
   "source": [
    "data['trip_duration'].std()"
   ]
  },
  {
   "cell_type": "markdown",
   "id": "f40d053b",
   "metadata": {
    "papermill": {
     "duration": 0.009471,
     "end_time": "2023-05-22T15:58:11.783717",
     "exception": false,
     "start_time": "2023-05-22T15:58:11.774246",
     "status": "completed"
    },
    "tags": []
   },
   "source": [
    "## Outlier detection and remval from the main data"
   ]
  },
  {
   "cell_type": "code",
   "execution_count": 13,
   "id": "c9c2e1f9",
   "metadata": {
    "execution": {
     "iopub.execute_input": "2023-05-22T15:58:11.804640Z",
     "iopub.status.busy": "2023-05-22T15:58:11.804305Z",
     "iopub.status.idle": "2023-05-22T15:58:12.119750Z",
     "shell.execute_reply": "2023-05-22T15:58:12.118576Z"
    },
    "papermill": {
     "duration": 0.329152,
     "end_time": "2023-05-22T15:58:12.122533",
     "exception": false,
     "start_time": "2023-05-22T15:58:11.793381",
     "status": "completed"
    },
    "tags": []
   },
   "outputs": [],
   "source": [
    "lower_lim = 1\n",
    "upper_lim = 60\n",
    "data_filtered = data[(data['trip_duration']) >=lower_lim & (data['trip_duration'] <= upper_lim)].copy()"
   ]
  },
  {
   "cell_type": "code",
   "execution_count": 14,
   "id": "a094045f",
   "metadata": {
    "execution": {
     "iopub.execute_input": "2023-05-22T15:58:12.144066Z",
     "iopub.status.busy": "2023-05-22T15:58:12.143697Z",
     "iopub.status.idle": "2023-05-22T15:58:12.149352Z",
     "shell.execute_reply": "2023-05-22T15:58:12.148313Z"
    },
    "papermill": {
     "duration": 0.018797,
     "end_time": "2023-05-22T15:58:12.151506",
     "exception": false,
     "start_time": "2023-05-22T15:58:12.132709",
     "status": "completed"
    },
    "tags": []
   },
   "outputs": [
    {
     "name": "stdout",
     "output_type": "stream",
     "text": [
      "Total Rows: 2433928\n",
      "Total Cols: 20\n"
     ]
    }
   ],
   "source": [
    "data_filtered_rows = data_filtered.shape[0]\n",
    "data_filtered_cols = data_filtered.shape[1]\n",
    "\n",
    "print(f\"Total Rows: {data_filtered_rows}\")\n",
    "print(f\"Total Cols: {data_filtered_cols}\")"
   ]
  },
  {
   "cell_type": "code",
   "execution_count": 15,
   "id": "55d1a4aa",
   "metadata": {
    "execution": {
     "iopub.execute_input": "2023-05-22T15:58:12.172614Z",
     "iopub.status.busy": "2023-05-22T15:58:12.172316Z",
     "iopub.status.idle": "2023-05-22T15:58:12.177672Z",
     "shell.execute_reply": "2023-05-22T15:58:12.176777Z"
    },
    "papermill": {
     "duration": 0.018228,
     "end_time": "2023-05-22T15:58:12.179492",
     "exception": false,
     "start_time": "2023-05-22T15:58:12.161264",
     "status": "completed"
    },
    "tags": []
   },
   "outputs": [
    {
     "data": {
      "text/plain": [
       "98.78231167999428"
      ]
     },
     "execution_count": 15,
     "metadata": {},
     "output_type": "execute_result"
    }
   ],
   "source": [
    "# percentage of data left\n",
    "\n",
    "(data_filtered_rows/data_prev_rows) * 100"
   ]
  },
  {
   "cell_type": "markdown",
   "id": "098a747a",
   "metadata": {
    "papermill": {
     "duration": 0.009612,
     "end_time": "2023-05-22T15:58:12.199240",
     "exception": false,
     "start_time": "2023-05-22T15:58:12.189628",
     "status": "completed"
    },
    "tags": []
   },
   "source": [
    "## One Hot Encoding"
   ]
  },
  {
   "cell_type": "code",
   "execution_count": 16,
   "id": "3cd8bb2f",
   "metadata": {
    "execution": {
     "iopub.execute_input": "2023-05-22T15:58:12.222286Z",
     "iopub.status.busy": "2023-05-22T15:58:12.221972Z",
     "iopub.status.idle": "2023-05-22T15:58:12.421807Z",
     "shell.execute_reply": "2023-05-22T15:58:12.420208Z"
    },
    "papermill": {
     "duration": 0.214238,
     "end_time": "2023-05-22T15:58:12.424405",
     "exception": false,
     "start_time": "2023-05-22T15:58:12.210167",
     "status": "completed"
    },
    "tags": []
   },
   "outputs": [],
   "source": [
    "from sklearn.feature_extraction import DictVectorizer"
   ]
  },
  {
   "cell_type": "code",
   "execution_count": 17,
   "id": "003de4e6",
   "metadata": {
    "execution": {
     "iopub.execute_input": "2023-05-22T15:58:12.447097Z",
     "iopub.status.busy": "2023-05-22T15:58:12.446692Z",
     "iopub.status.idle": "2023-05-22T15:58:13.993525Z",
     "shell.execute_reply": "2023-05-22T15:58:13.992631Z"
    },
    "papermill": {
     "duration": 1.560577,
     "end_time": "2023-05-22T15:58:13.995736",
     "exception": false,
     "start_time": "2023-05-22T15:58:12.435159",
     "status": "completed"
    },
    "tags": []
   },
   "outputs": [],
   "source": [
    "categorical = [\"PULocationID\", \"DOLocationID\"]\n",
    "data_filtered[categorical] = data_filtered[categorical].fillna(-1).astype(\"int\")\n",
    "\n",
    "data_filtered[categorical] = data_filtered[categorical].astype(\"str\")"
   ]
  },
  {
   "cell_type": "code",
   "execution_count": 18,
   "id": "f4419417",
   "metadata": {
    "execution": {
     "iopub.execute_input": "2023-05-22T15:58:14.018148Z",
     "iopub.status.busy": "2023-05-22T15:58:14.017760Z",
     "iopub.status.idle": "2023-05-22T15:58:20.961265Z",
     "shell.execute_reply": "2023-05-22T15:58:20.959800Z"
    },
    "papermill": {
     "duration": 6.958109,
     "end_time": "2023-05-22T15:58:20.963865",
     "exception": false,
     "start_time": "2023-05-22T15:58:14.005756",
     "status": "completed"
    },
    "tags": []
   },
   "outputs": [],
   "source": [
    "dict_list = data_filtered[categorical].to_dict(orient=\"records\")\n",
    "\n",
    "vect = DictVectorizer()\n"
   ]
  },
  {
   "cell_type": "code",
   "execution_count": 19,
   "id": "5102bb6d",
   "metadata": {
    "execution": {
     "iopub.execute_input": "2023-05-22T15:58:20.985498Z",
     "iopub.status.busy": "2023-05-22T15:58:20.985135Z",
     "iopub.status.idle": "2023-05-22T15:58:26.287855Z",
     "shell.execute_reply": "2023-05-22T15:58:26.286362Z"
    },
    "papermill": {
     "duration": 5.316269,
     "end_time": "2023-05-22T15:58:26.290366",
     "exception": false,
     "start_time": "2023-05-22T15:58:20.974097",
     "status": "completed"
    },
    "tags": []
   },
   "outputs": [
    {
     "data": {
      "text/plain": [
       "(2433928, 517)"
      ]
     },
     "execution_count": 19,
     "metadata": {},
     "output_type": "execute_result"
    }
   ],
   "source": [
    "X_train = vect.fit_transform(dict_list)\n",
    "\n",
    "X_train.shape"
   ]
  },
  {
   "cell_type": "code",
   "execution_count": 20,
   "id": "dc16822c",
   "metadata": {
    "execution": {
     "iopub.execute_input": "2023-05-22T15:58:26.312262Z",
     "iopub.status.busy": "2023-05-22T15:58:26.311894Z",
     "iopub.status.idle": "2023-05-22T15:58:26.315603Z",
     "shell.execute_reply": "2023-05-22T15:58:26.314940Z"
    },
    "papermill": {
     "duration": 0.017187,
     "end_time": "2023-05-22T15:58:26.317869",
     "exception": false,
     "start_time": "2023-05-22T15:58:26.300682",
     "status": "completed"
    },
    "tags": []
   },
   "outputs": [],
   "source": [
    "y_train = data_filtered.trip_duration.values"
   ]
  },
  {
   "cell_type": "markdown",
   "id": "e39fb239",
   "metadata": {
    "papermill": {
     "duration": 0.009643,
     "end_time": "2023-05-22T15:58:26.337727",
     "exception": false,
     "start_time": "2023-05-22T15:58:26.328084",
     "status": "completed"
    },
    "tags": []
   },
   "source": [
    "## Number of feature"
   ]
  },
  {
   "cell_type": "code",
   "execution_count": 21,
   "id": "7ebf60f8",
   "metadata": {
    "execution": {
     "iopub.execute_input": "2023-05-22T15:58:26.359613Z",
     "iopub.status.busy": "2023-05-22T15:58:26.359104Z",
     "iopub.status.idle": "2023-05-22T15:58:26.364255Z",
     "shell.execute_reply": "2023-05-22T15:58:26.363179Z"
    },
    "papermill": {
     "duration": 0.018338,
     "end_time": "2023-05-22T15:58:26.365949",
     "exception": false,
     "start_time": "2023-05-22T15:58:26.347611",
     "status": "completed"
    },
    "tags": []
   },
   "outputs": [
    {
     "data": {
      "text/plain": [
       "517"
      ]
     },
     "execution_count": 21,
     "metadata": {},
     "output_type": "execute_result"
    }
   ],
   "source": [
    "len(vect.feature_names_)"
   ]
  },
  {
   "cell_type": "code",
   "execution_count": 22,
   "id": "aedd435e",
   "metadata": {
    "execution": {
     "iopub.execute_input": "2023-05-22T15:58:26.388150Z",
     "iopub.status.busy": "2023-05-22T15:58:26.387548Z",
     "iopub.status.idle": "2023-05-22T15:58:26.604924Z",
     "shell.execute_reply": "2023-05-22T15:58:26.603298Z"
    },
    "papermill": {
     "duration": 0.231586,
     "end_time": "2023-05-22T15:58:26.607564",
     "exception": false,
     "start_time": "2023-05-22T15:58:26.375978",
     "status": "completed"
    },
    "tags": []
   },
   "outputs": [],
   "source": [
    "from sklearn.linear_model import LinearRegression\n",
    "\n",
    "from sklearn.metrics import mean_squared_error"
   ]
  },
  {
   "cell_type": "code",
   "execution_count": 23,
   "id": "38e94af4",
   "metadata": {
    "execution": {
     "iopub.execute_input": "2023-05-22T15:58:26.628727Z",
     "iopub.status.busy": "2023-05-22T15:58:26.628423Z",
     "iopub.status.idle": "2023-05-22T15:59:07.225815Z",
     "shell.execute_reply": "2023-05-22T15:59:07.225156Z"
    },
    "papermill": {
     "duration": 40.623054,
     "end_time": "2023-05-22T15:59:07.240544",
     "exception": false,
     "start_time": "2023-05-22T15:58:26.617490",
     "status": "completed"
    },
    "tags": []
   },
   "outputs": [
    {
     "data": {
      "text/html": [
       "<style>#sk-container-id-1 {color: black;background-color: white;}#sk-container-id-1 pre{padding: 0;}#sk-container-id-1 div.sk-toggleable {background-color: white;}#sk-container-id-1 label.sk-toggleable__label {cursor: pointer;display: block;width: 100%;margin-bottom: 0;padding: 0.3em;box-sizing: border-box;text-align: center;}#sk-container-id-1 label.sk-toggleable__label-arrow:before {content: \"▸\";float: left;margin-right: 0.25em;color: #696969;}#sk-container-id-1 label.sk-toggleable__label-arrow:hover:before {color: black;}#sk-container-id-1 div.sk-estimator:hover label.sk-toggleable__label-arrow:before {color: black;}#sk-container-id-1 div.sk-toggleable__content {max-height: 0;max-width: 0;overflow: hidden;text-align: left;background-color: #f0f8ff;}#sk-container-id-1 div.sk-toggleable__content pre {margin: 0.2em;color: black;border-radius: 0.25em;background-color: #f0f8ff;}#sk-container-id-1 input.sk-toggleable__control:checked~div.sk-toggleable__content {max-height: 200px;max-width: 100%;overflow: auto;}#sk-container-id-1 input.sk-toggleable__control:checked~label.sk-toggleable__label-arrow:before {content: \"▾\";}#sk-container-id-1 div.sk-estimator input.sk-toggleable__control:checked~label.sk-toggleable__label {background-color: #d4ebff;}#sk-container-id-1 div.sk-label input.sk-toggleable__control:checked~label.sk-toggleable__label {background-color: #d4ebff;}#sk-container-id-1 input.sk-hidden--visually {border: 0;clip: rect(1px 1px 1px 1px);clip: rect(1px, 1px, 1px, 1px);height: 1px;margin: -1px;overflow: hidden;padding: 0;position: absolute;width: 1px;}#sk-container-id-1 div.sk-estimator {font-family: monospace;background-color: #f0f8ff;border: 1px dotted black;border-radius: 0.25em;box-sizing: border-box;margin-bottom: 0.5em;}#sk-container-id-1 div.sk-estimator:hover {background-color: #d4ebff;}#sk-container-id-1 div.sk-parallel-item::after {content: \"\";width: 100%;border-bottom: 1px solid gray;flex-grow: 1;}#sk-container-id-1 div.sk-label:hover label.sk-toggleable__label {background-color: #d4ebff;}#sk-container-id-1 div.sk-serial::before {content: \"\";position: absolute;border-left: 1px solid gray;box-sizing: border-box;top: 0;bottom: 0;left: 50%;z-index: 0;}#sk-container-id-1 div.sk-serial {display: flex;flex-direction: column;align-items: center;background-color: white;padding-right: 0.2em;padding-left: 0.2em;position: relative;}#sk-container-id-1 div.sk-item {position: relative;z-index: 1;}#sk-container-id-1 div.sk-parallel {display: flex;align-items: stretch;justify-content: center;background-color: white;position: relative;}#sk-container-id-1 div.sk-item::before, #sk-container-id-1 div.sk-parallel-item::before {content: \"\";position: absolute;border-left: 1px solid gray;box-sizing: border-box;top: 0;bottom: 0;left: 50%;z-index: -1;}#sk-container-id-1 div.sk-parallel-item {display: flex;flex-direction: column;z-index: 1;position: relative;background-color: white;}#sk-container-id-1 div.sk-parallel-item:first-child::after {align-self: flex-end;width: 50%;}#sk-container-id-1 div.sk-parallel-item:last-child::after {align-self: flex-start;width: 50%;}#sk-container-id-1 div.sk-parallel-item:only-child::after {width: 0;}#sk-container-id-1 div.sk-dashed-wrapped {border: 1px dashed gray;margin: 0 0.4em 0.5em 0.4em;box-sizing: border-box;padding-bottom: 0.4em;background-color: white;}#sk-container-id-1 div.sk-label label {font-family: monospace;font-weight: bold;display: inline-block;line-height: 1.2em;}#sk-container-id-1 div.sk-label-container {text-align: center;}#sk-container-id-1 div.sk-container {/* jupyter's `normalize.less` sets `[hidden] { display: none; }` but bootstrap.min.css set `[hidden] { display: none !important; }` so we also need the `!important` here to be able to override the default hidden behavior on the sphinx rendered scikit-learn.org. See: https://github.com/scikit-learn/scikit-learn/issues/21755 */display: inline-block !important;position: relative;}#sk-container-id-1 div.sk-text-repr-fallback {display: none;}</style><div id=\"sk-container-id-1\" class=\"sk-top-container\"><div class=\"sk-text-repr-fallback\"><pre>LinearRegression()</pre><b>In a Jupyter environment, please rerun this cell to show the HTML representation or trust the notebook. <br />On GitHub, the HTML representation is unable to render, please try loading this page with nbviewer.org.</b></div><div class=\"sk-container\" hidden><div class=\"sk-item\"><div class=\"sk-estimator sk-toggleable\"><input class=\"sk-toggleable__control sk-hidden--visually\" id=\"sk-estimator-id-1\" type=\"checkbox\" checked><label for=\"sk-estimator-id-1\" class=\"sk-toggleable__label sk-toggleable__label-arrow\">LinearRegression</label><div class=\"sk-toggleable__content\"><pre>LinearRegression()</pre></div></div></div></div></div>"
      ],
      "text/plain": [
       "LinearRegression()"
      ]
     },
     "execution_count": 23,
     "metadata": {},
     "output_type": "execute_result"
    }
   ],
   "source": [
    "linear_reg = LinearRegression()\n",
    "linear_reg.fit(X_train, y_train)"
   ]
  },
  {
   "cell_type": "code",
   "execution_count": 24,
   "id": "97e1f4f7",
   "metadata": {
    "execution": {
     "iopub.execute_input": "2023-05-22T15:59:07.270208Z",
     "iopub.status.busy": "2023-05-22T15:59:07.269791Z",
     "iopub.status.idle": "2023-05-22T15:59:07.290611Z",
     "shell.execute_reply": "2023-05-22T15:59:07.289784Z"
    },
    "papermill": {
     "duration": 0.038631,
     "end_time": "2023-05-22T15:59:07.293276",
     "exception": false,
     "start_time": "2023-05-22T15:59:07.254645",
     "status": "completed"
    },
    "tags": []
   },
   "outputs": [],
   "source": [
    "y_preds = linear_reg.predict(X_train)"
   ]
  },
  {
   "cell_type": "code",
   "execution_count": 25,
   "id": "c73b49d6",
   "metadata": {
    "execution": {
     "iopub.execute_input": "2023-05-22T15:59:07.321505Z",
     "iopub.status.busy": "2023-05-22T15:59:07.321168Z",
     "iopub.status.idle": "2023-05-22T15:59:07.336118Z",
     "shell.execute_reply": "2023-05-22T15:59:07.335471Z"
    },
    "papermill": {
     "duration": 0.030181,
     "end_time": "2023-05-22T15:59:07.337721",
     "exception": false,
     "start_time": "2023-05-22T15:59:07.307540",
     "status": "completed"
    },
    "tags": []
   },
   "outputs": [
    {
     "data": {
      "text/plain": [
       "46.157942474248735"
      ]
     },
     "execution_count": 25,
     "metadata": {},
     "output_type": "execute_result"
    }
   ],
   "source": [
    "mse_train = mean_squared_error(y_train, y_preds, squared=False)\n",
    "mse_train"
   ]
  },
  {
   "cell_type": "markdown",
   "id": "1c223b61",
   "metadata": {
    "papermill": {
     "duration": 0.01071,
     "end_time": "2023-05-22T15:59:07.358179",
     "exception": false,
     "start_time": "2023-05-22T15:59:07.347469",
     "status": "completed"
    },
    "tags": []
   },
   "source": [
    "## Root Mean Squred Error in Train data"
   ]
  },
  {
   "cell_type": "code",
   "execution_count": 26,
   "id": "7502cbc5",
   "metadata": {
    "execution": {
     "iopub.execute_input": "2023-05-22T15:59:07.381934Z",
     "iopub.status.busy": "2023-05-22T15:59:07.381261Z",
     "iopub.status.idle": "2023-05-22T15:59:07.387161Z",
     "shell.execute_reply": "2023-05-22T15:59:07.386264Z"
    },
    "papermill": {
     "duration": 0.020213,
     "end_time": "2023-05-22T15:59:07.388963",
     "exception": false,
     "start_time": "2023-05-22T15:59:07.368750",
     "status": "completed"
    },
    "tags": []
   },
   "outputs": [
    {
     "data": {
      "text/plain": [
       "6.793963679197051"
      ]
     },
     "execution_count": 26,
     "metadata": {},
     "output_type": "execute_result"
    }
   ],
   "source": [
    "np.sqrt(mse_train)"
   ]
  },
  {
   "cell_type": "markdown",
   "id": "5b3bb6a8",
   "metadata": {
    "papermill": {
     "duration": 0.010178,
     "end_time": "2023-05-22T15:59:07.409636",
     "exception": false,
     "start_time": "2023-05-22T15:59:07.399458",
     "status": "completed"
    },
    "tags": []
   },
   "source": [
    "## Validation data preprocessing"
   ]
  },
  {
   "cell_type": "code",
   "execution_count": 27,
   "id": "4f859ad2",
   "metadata": {
    "execution": {
     "iopub.execute_input": "2023-05-22T15:59:07.432608Z",
     "iopub.status.busy": "2023-05-22T15:59:07.431966Z",
     "iopub.status.idle": "2023-05-22T15:59:09.062671Z",
     "shell.execute_reply": "2023-05-22T15:59:09.061945Z"
    },
    "papermill": {
     "duration": 1.644381,
     "end_time": "2023-05-22T15:59:09.064415",
     "exception": false,
     "start_time": "2023-05-22T15:59:07.420034",
     "status": "completed"
    },
    "tags": []
   },
   "outputs": [
    {
     "data": {
      "text/plain": [
       "(2979431, 19)"
      ]
     },
     "execution_count": 27,
     "metadata": {},
     "output_type": "execute_result"
    }
   ],
   "source": [
    "categorical = [\"PULocationID\", \"DOLocationID\"]\n",
    "data_val = pd.read_parquet(\"/kaggle/input/zoomcamp-mlops-data/nyc-2022-fab-02.parquet\")\n",
    "data_val.shape"
   ]
  },
  {
   "cell_type": "code",
   "execution_count": 28,
   "id": "75fc3026",
   "metadata": {
    "execution": {
     "iopub.execute_input": "2023-05-22T15:59:09.088613Z",
     "iopub.status.busy": "2023-05-22T15:59:09.087092Z",
     "iopub.status.idle": "2023-05-22T15:59:09.118724Z",
     "shell.execute_reply": "2023-05-22T15:59:09.117370Z"
    },
    "papermill": {
     "duration": 0.045989,
     "end_time": "2023-05-22T15:59:09.121398",
     "exception": false,
     "start_time": "2023-05-22T15:59:09.075409",
     "status": "completed"
    },
    "tags": []
   },
   "outputs": [],
   "source": [
    "data_val['trip_duration'] = data_val['tpep_dropoff_datetime'] - data_val['tpep_pickup_datetime']"
   ]
  },
  {
   "cell_type": "code",
   "execution_count": 29,
   "id": "5a22fca9",
   "metadata": {
    "execution": {
     "iopub.execute_input": "2023-05-22T15:59:09.146742Z",
     "iopub.status.busy": "2023-05-22T15:59:09.145269Z",
     "iopub.status.idle": "2023-05-22T15:59:09.171196Z",
     "shell.execute_reply": "2023-05-22T15:59:09.169391Z"
    },
    "papermill": {
     "duration": 0.041389,
     "end_time": "2023-05-22T15:59:09.173852",
     "exception": false,
     "start_time": "2023-05-22T15:59:09.132463",
     "status": "completed"
    },
    "tags": []
   },
   "outputs": [
    {
     "data": {
      "text/plain": [
       "0    12.433333\n",
       "1    17.550000\n",
       "2    23.650000\n",
       "3    20.083333\n",
       "4    26.316667\n",
       "Name: trip_duration, dtype: float64"
      ]
     },
     "execution_count": 29,
     "metadata": {},
     "output_type": "execute_result"
    }
   ],
   "source": [
    "data_val['trip_duration'] = data_val.trip_duration.dt.total_seconds() /60\n",
    "\n",
    "data_val['trip_duration'].head()"
   ]
  },
  {
   "cell_type": "code",
   "execution_count": 30,
   "id": "a3efc89e",
   "metadata": {
    "execution": {
     "iopub.execute_input": "2023-05-22T15:59:09.197270Z",
     "iopub.status.busy": "2023-05-22T15:59:09.196931Z",
     "iopub.status.idle": "2023-05-22T15:59:09.219742Z",
     "shell.execute_reply": "2023-05-22T15:59:09.218750Z"
    },
    "papermill": {
     "duration": 0.037052,
     "end_time": "2023-05-22T15:59:09.221850",
     "exception": false,
     "start_time": "2023-05-22T15:59:09.184798",
     "status": "completed"
    },
    "tags": []
   },
   "outputs": [
    {
     "data": {
      "text/html": [
       "<div>\n",
       "<style scoped>\n",
       "    .dataframe tbody tr th:only-of-type {\n",
       "        vertical-align: middle;\n",
       "    }\n",
       "\n",
       "    .dataframe tbody tr th {\n",
       "        vertical-align: top;\n",
       "    }\n",
       "\n",
       "    .dataframe thead th {\n",
       "        text-align: right;\n",
       "    }\n",
       "</style>\n",
       "<table border=\"1\" class=\"dataframe\">\n",
       "  <thead>\n",
       "    <tr style=\"text-align: right;\">\n",
       "      <th></th>\n",
       "      <th>VendorID</th>\n",
       "      <th>tpep_pickup_datetime</th>\n",
       "      <th>tpep_dropoff_datetime</th>\n",
       "      <th>passenger_count</th>\n",
       "      <th>trip_distance</th>\n",
       "      <th>RatecodeID</th>\n",
       "      <th>store_and_fwd_flag</th>\n",
       "      <th>PULocationID</th>\n",
       "      <th>DOLocationID</th>\n",
       "      <th>payment_type</th>\n",
       "      <th>fare_amount</th>\n",
       "      <th>extra</th>\n",
       "      <th>mta_tax</th>\n",
       "      <th>tip_amount</th>\n",
       "      <th>tolls_amount</th>\n",
       "      <th>improvement_surcharge</th>\n",
       "      <th>total_amount</th>\n",
       "      <th>congestion_surcharge</th>\n",
       "      <th>airport_fee</th>\n",
       "      <th>trip_duration</th>\n",
       "    </tr>\n",
       "  </thead>\n",
       "  <tbody>\n",
       "    <tr>\n",
       "      <th>0</th>\n",
       "      <td>1</td>\n",
       "      <td>2022-02-01 00:06:58</td>\n",
       "      <td>2022-02-01 00:19:24</td>\n",
       "      <td>1.0</td>\n",
       "      <td>5.40</td>\n",
       "      <td>1.0</td>\n",
       "      <td>N</td>\n",
       "      <td>138</td>\n",
       "      <td>252</td>\n",
       "      <td>1</td>\n",
       "      <td>17.0</td>\n",
       "      <td>1.75</td>\n",
       "      <td>0.5</td>\n",
       "      <td>3.90</td>\n",
       "      <td>0.00</td>\n",
       "      <td>0.3</td>\n",
       "      <td>23.45</td>\n",
       "      <td>0.0</td>\n",
       "      <td>1.25</td>\n",
       "      <td>12.433333</td>\n",
       "    </tr>\n",
       "    <tr>\n",
       "      <th>1</th>\n",
       "      <td>1</td>\n",
       "      <td>2022-02-01 00:38:22</td>\n",
       "      <td>2022-02-01 00:55:55</td>\n",
       "      <td>1.0</td>\n",
       "      <td>6.40</td>\n",
       "      <td>1.0</td>\n",
       "      <td>N</td>\n",
       "      <td>138</td>\n",
       "      <td>41</td>\n",
       "      <td>2</td>\n",
       "      <td>21.0</td>\n",
       "      <td>1.75</td>\n",
       "      <td>0.5</td>\n",
       "      <td>0.00</td>\n",
       "      <td>6.55</td>\n",
       "      <td>0.3</td>\n",
       "      <td>30.10</td>\n",
       "      <td>0.0</td>\n",
       "      <td>1.25</td>\n",
       "      <td>17.550000</td>\n",
       "    </tr>\n",
       "    <tr>\n",
       "      <th>2</th>\n",
       "      <td>1</td>\n",
       "      <td>2022-02-01 00:03:20</td>\n",
       "      <td>2022-02-01 00:26:59</td>\n",
       "      <td>1.0</td>\n",
       "      <td>12.50</td>\n",
       "      <td>1.0</td>\n",
       "      <td>N</td>\n",
       "      <td>138</td>\n",
       "      <td>200</td>\n",
       "      <td>2</td>\n",
       "      <td>35.5</td>\n",
       "      <td>1.75</td>\n",
       "      <td>0.5</td>\n",
       "      <td>0.00</td>\n",
       "      <td>6.55</td>\n",
       "      <td>0.3</td>\n",
       "      <td>44.60</td>\n",
       "      <td>0.0</td>\n",
       "      <td>1.25</td>\n",
       "      <td>23.650000</td>\n",
       "    </tr>\n",
       "    <tr>\n",
       "      <th>3</th>\n",
       "      <td>2</td>\n",
       "      <td>2022-02-01 00:08:00</td>\n",
       "      <td>2022-02-01 00:28:05</td>\n",
       "      <td>1.0</td>\n",
       "      <td>9.88</td>\n",
       "      <td>1.0</td>\n",
       "      <td>N</td>\n",
       "      <td>239</td>\n",
       "      <td>200</td>\n",
       "      <td>2</td>\n",
       "      <td>28.0</td>\n",
       "      <td>0.50</td>\n",
       "      <td>0.5</td>\n",
       "      <td>0.00</td>\n",
       "      <td>3.00</td>\n",
       "      <td>0.3</td>\n",
       "      <td>34.80</td>\n",
       "      <td>2.5</td>\n",
       "      <td>0.00</td>\n",
       "      <td>20.083333</td>\n",
       "    </tr>\n",
       "    <tr>\n",
       "      <th>4</th>\n",
       "      <td>2</td>\n",
       "      <td>2022-02-01 00:06:48</td>\n",
       "      <td>2022-02-01 00:33:07</td>\n",
       "      <td>1.0</td>\n",
       "      <td>12.16</td>\n",
       "      <td>1.0</td>\n",
       "      <td>N</td>\n",
       "      <td>138</td>\n",
       "      <td>125</td>\n",
       "      <td>1</td>\n",
       "      <td>35.5</td>\n",
       "      <td>0.50</td>\n",
       "      <td>0.5</td>\n",
       "      <td>8.11</td>\n",
       "      <td>0.00</td>\n",
       "      <td>0.3</td>\n",
       "      <td>48.66</td>\n",
       "      <td>2.5</td>\n",
       "      <td>1.25</td>\n",
       "      <td>26.316667</td>\n",
       "    </tr>\n",
       "  </tbody>\n",
       "</table>\n",
       "</div>"
      ],
      "text/plain": [
       "   VendorID tpep_pickup_datetime tpep_dropoff_datetime  passenger_count  \\\n",
       "0         1  2022-02-01 00:06:58   2022-02-01 00:19:24              1.0   \n",
       "1         1  2022-02-01 00:38:22   2022-02-01 00:55:55              1.0   \n",
       "2         1  2022-02-01 00:03:20   2022-02-01 00:26:59              1.0   \n",
       "3         2  2022-02-01 00:08:00   2022-02-01 00:28:05              1.0   \n",
       "4         2  2022-02-01 00:06:48   2022-02-01 00:33:07              1.0   \n",
       "\n",
       "   trip_distance  RatecodeID store_and_fwd_flag  PULocationID  DOLocationID  \\\n",
       "0           5.40         1.0                  N           138           252   \n",
       "1           6.40         1.0                  N           138            41   \n",
       "2          12.50         1.0                  N           138           200   \n",
       "3           9.88         1.0                  N           239           200   \n",
       "4          12.16         1.0                  N           138           125   \n",
       "\n",
       "   payment_type  fare_amount  extra  mta_tax  tip_amount  tolls_amount  \\\n",
       "0             1         17.0   1.75      0.5        3.90          0.00   \n",
       "1             2         21.0   1.75      0.5        0.00          6.55   \n",
       "2             2         35.5   1.75      0.5        0.00          6.55   \n",
       "3             2         28.0   0.50      0.5        0.00          3.00   \n",
       "4             1         35.5   0.50      0.5        8.11          0.00   \n",
       "\n",
       "   improvement_surcharge  total_amount  congestion_surcharge  airport_fee  \\\n",
       "0                    0.3         23.45                   0.0         1.25   \n",
       "1                    0.3         30.10                   0.0         1.25   \n",
       "2                    0.3         44.60                   0.0         1.25   \n",
       "3                    0.3         34.80                   2.5         0.00   \n",
       "4                    0.3         48.66                   2.5         1.25   \n",
       "\n",
       "   trip_duration  \n",
       "0      12.433333  \n",
       "1      17.550000  \n",
       "2      23.650000  \n",
       "3      20.083333  \n",
       "4      26.316667  "
      ]
     },
     "execution_count": 30,
     "metadata": {},
     "output_type": "execute_result"
    }
   ],
   "source": [
    "data_val.head()"
   ]
  },
  {
   "cell_type": "code",
   "execution_count": 31,
   "id": "bd7e8125",
   "metadata": {
    "execution": {
     "iopub.execute_input": "2023-05-22T15:59:09.247090Z",
     "iopub.status.busy": "2023-05-22T15:59:09.246683Z",
     "iopub.status.idle": "2023-05-22T15:59:11.214892Z",
     "shell.execute_reply": "2023-05-22T15:59:11.213222Z"
    },
    "papermill": {
     "duration": 1.983661,
     "end_time": "2023-05-22T15:59:11.217399",
     "exception": false,
     "start_time": "2023-05-22T15:59:09.233738",
     "status": "completed"
    },
    "tags": []
   },
   "outputs": [],
   "source": [
    "data_val[categorical] = data_val[categorical].fillna(-1).astype(\"int\")\n",
    "\n",
    "data_val[categorical] = data_val[categorical].astype(\"str\")"
   ]
  },
  {
   "cell_type": "code",
   "execution_count": 32,
   "id": "ddd93543",
   "metadata": {
    "execution": {
     "iopub.execute_input": "2023-05-22T15:59:11.241552Z",
     "iopub.status.busy": "2023-05-22T15:59:11.241187Z",
     "iopub.status.idle": "2023-05-22T15:59:19.706002Z",
     "shell.execute_reply": "2023-05-22T15:59:19.704824Z"
    },
    "papermill": {
     "duration": 8.479971,
     "end_time": "2023-05-22T15:59:19.708463",
     "exception": false,
     "start_time": "2023-05-22T15:59:11.228492",
     "status": "completed"
    },
    "tags": []
   },
   "outputs": [],
   "source": [
    "data_val_dict = data_val[categorical].to_dict(orient=\"records\")"
   ]
  },
  {
   "cell_type": "code",
   "execution_count": 33,
   "id": "1bc92321",
   "metadata": {
    "execution": {
     "iopub.execute_input": "2023-05-22T15:59:19.733207Z",
     "iopub.status.busy": "2023-05-22T15:59:19.732815Z",
     "iopub.status.idle": "2023-05-22T15:59:26.011976Z",
     "shell.execute_reply": "2023-05-22T15:59:26.010946Z"
    },
    "papermill": {
     "duration": 6.293962,
     "end_time": "2023-05-22T15:59:26.014265",
     "exception": false,
     "start_time": "2023-05-22T15:59:19.720303",
     "status": "completed"
    },
    "tags": []
   },
   "outputs": [],
   "source": [
    "X_validation = vect.transform(data_val_dict)"
   ]
  },
  {
   "cell_type": "code",
   "execution_count": 34,
   "id": "e5d29f7b",
   "metadata": {
    "execution": {
     "iopub.execute_input": "2023-05-22T15:59:26.038716Z",
     "iopub.status.busy": "2023-05-22T15:59:26.038249Z",
     "iopub.status.idle": "2023-05-22T15:59:26.043526Z",
     "shell.execute_reply": "2023-05-22T15:59:26.042314Z"
    },
    "papermill": {
     "duration": 0.020478,
     "end_time": "2023-05-22T15:59:26.046235",
     "exception": false,
     "start_time": "2023-05-22T15:59:26.025757",
     "status": "completed"
    },
    "tags": []
   },
   "outputs": [],
   "source": [
    "y_validation = data_val.trip_duration.values"
   ]
  },
  {
   "cell_type": "code",
   "execution_count": 35,
   "id": "5b90f611",
   "metadata": {
    "execution": {
     "iopub.execute_input": "2023-05-22T15:59:26.069200Z",
     "iopub.status.busy": "2023-05-22T15:59:26.068850Z",
     "iopub.status.idle": "2023-05-22T15:59:26.085692Z",
     "shell.execute_reply": "2023-05-22T15:59:26.083976Z"
    },
    "papermill": {
     "duration": 0.030889,
     "end_time": "2023-05-22T15:59:26.088011",
     "exception": false,
     "start_time": "2023-05-22T15:59:26.057122",
     "status": "completed"
    },
    "tags": []
   },
   "outputs": [],
   "source": [
    "y_val_preds = linear_reg.predict(X_validation)"
   ]
  },
  {
   "cell_type": "code",
   "execution_count": 36,
   "id": "1ecde443",
   "metadata": {
    "execution": {
     "iopub.execute_input": "2023-05-22T15:59:26.113096Z",
     "iopub.status.busy": "2023-05-22T15:59:26.111550Z",
     "iopub.status.idle": "2023-05-22T15:59:26.126060Z",
     "shell.execute_reply": "2023-05-22T15:59:26.125200Z"
    },
    "papermill": {
     "duration": 0.029503,
     "end_time": "2023-05-22T15:59:26.128547",
     "exception": false,
     "start_time": "2023-05-22T15:59:26.099044",
     "status": "completed"
    },
    "tags": []
   },
   "outputs": [],
   "source": [
    "mean_sqr_val_error = mean_squared_error(y_validation, y_val_preds, squared=False)\n"
   ]
  },
  {
   "cell_type": "code",
   "execution_count": 37,
   "id": "0ab92e32",
   "metadata": {
    "execution": {
     "iopub.execute_input": "2023-05-22T15:59:26.153759Z",
     "iopub.status.busy": "2023-05-22T15:59:26.153424Z",
     "iopub.status.idle": "2023-05-22T15:59:26.161325Z",
     "shell.execute_reply": "2023-05-22T15:59:26.160230Z"
    },
    "papermill": {
     "duration": 0.023581,
     "end_time": "2023-05-22T15:59:26.163791",
     "exception": false,
     "start_time": "2023-05-22T15:59:26.140210",
     "status": "completed"
    },
    "tags": []
   },
   "outputs": [
    {
     "data": {
      "text/plain": [
       "46.81526960443868"
      ]
     },
     "execution_count": 37,
     "metadata": {},
     "output_type": "execute_result"
    }
   ],
   "source": [
    "mean_sqr_val_error"
   ]
  },
  {
   "cell_type": "code",
   "execution_count": 38,
   "id": "4cd4fb6a",
   "metadata": {
    "execution": {
     "iopub.execute_input": "2023-05-22T15:59:26.188965Z",
     "iopub.status.busy": "2023-05-22T15:59:26.187961Z",
     "iopub.status.idle": "2023-05-22T15:59:26.196250Z",
     "shell.execute_reply": "2023-05-22T15:59:26.194997Z"
    },
    "papermill": {
     "duration": 0.02265,
     "end_time": "2023-05-22T15:59:26.198457",
     "exception": false,
     "start_time": "2023-05-22T15:59:26.175807",
     "status": "completed"
    },
    "tags": []
   },
   "outputs": [
    {
     "data": {
      "text/plain": [
       "6.8421684869958215"
      ]
     },
     "execution_count": 38,
     "metadata": {},
     "output_type": "execute_result"
    }
   ],
   "source": [
    "np.sqrt(mean_sqr_val_error)"
   ]
  }
 ],
 "metadata": {
  "kernelspec": {
   "display_name": "Python 3",
   "language": "python",
   "name": "python3"
  },
  "language_info": {
   "codemirror_mode": {
    "name": "ipython",
    "version": 3
   },
   "file_extension": ".py",
   "mimetype": "text/x-python",
   "name": "python",
   "nbconvert_exporter": "python",
   "pygments_lexer": "ipython3",
   "version": "3.10.10"
  },
  "papermill": {
   "default_parameters": {},
   "duration": 89.077323,
   "end_time": "2023-05-22T15:59:27.733790",
   "environment_variables": {},
   "exception": null,
   "input_path": "__notebook__.ipynb",
   "output_path": "__notebook__.ipynb",
   "parameters": {},
   "start_time": "2023-05-22T15:57:58.656467",
   "version": "2.4.0"
  }
 },
 "nbformat": 4,
 "nbformat_minor": 5
}
